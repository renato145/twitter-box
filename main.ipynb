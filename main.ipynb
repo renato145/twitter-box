{
 "cells": [
  {
   "cell_type": "code",
   "execution_count": 1,
   "metadata": {
    "collapsed": true
   },
   "outputs": [],
   "source": [
    "import os\n",
    "import pickle\n",
    "import tweepy\n",
    "import datetime"
   ]
  },
  {
   "cell_type": "code",
   "execution_count": 2,
   "metadata": {
    "collapsed": true
   },
   "outputs": [],
   "source": [
    "def load_api(file='credentials.pkl'):\n",
    "    cred = pickle.load(open(file, 'rb'))\n",
    "    auth = tweepy.OAuthHandler(cred['consumer_key'], cred['consumer_secret'])\n",
    "    auth.set_access_token(cred['access_token'], cred['access_token_secret'])\n",
    "    api = tweepy.API(auth)\n",
    "    \n",
    "    return api\n",
    "\n",
    "api = load_api()"
   ]
  },
  {
   "cell_type": "code",
   "execution_count": 23,
   "metadata": {},
   "outputs": [],
   "source": [
    "class StreamListener(tweepy.StreamListener):\n",
    "    def __init__(self, file, lang, query, tweet_limit=100):\n",
    "        super(StreamListener, self).__init__()\n",
    "        self.file = file\n",
    "        self.lang = '|'.join(lang)\n",
    "        self.query = '|'.join(query)\n",
    "        self.tweet_limit = tweet_limit\n",
    "        self.i = 0\n",
    "        \n",
    "    def on_connect(self):\n",
    "        if not os.path.exists(self.file):\n",
    "            with open(self.file, 'w') as f:\n",
    "                f.writelines('time,lang,query,user,text\\n')\n",
    "            \n",
    "        print(f'---Stream opened ({self.file})---')\n",
    "        \n",
    "    def on_status(self, status):\n",
    "        time = status.created_at - datetime.timedelta(hours=5)\n",
    "        time = time.strftime(\"%Y-%m-%d %H:%M:%S\")\n",
    "        text = status.text.replace('\"', \"'\")\n",
    "        text = f'\"{text}\"'\n",
    "        \n",
    "        with open(self.file, 'a') as f:\n",
    "            f.writelines(time + ',')\n",
    "            f.writelines(self.lang + ',')\n",
    "            f.writelines(self.query + ',')\n",
    "            f.writelines(status.user.name + ',')\n",
    "            f.writelines(text)\n",
    "            f.writelines('\\n')\n",
    "        \n",
    "        self.i += 1\n",
    "        if self.i < self.tweet_limit:\n",
    "            print(f'{self.i}/{self.tweet_limit}', end='\\r')\n",
    "        else:\n",
    "            print(f'---Got {self.tweet_limit} tweets---')\n",
    "            return False\n",
    "        \n",
    "    def on_error(self, status_code):\n",
    "        print(f'---Got error: {status_code}---')\n",
    "        return False\n",
    "\n",
    "    def on_disconnect(self, notice):\n",
    "        print('---Stream closed---')        "
   ]
  },
  {
   "cell_type": "code",
   "execution_count": 24,
   "metadata": {},
   "outputs": [],
   "source": [
    "project = 'test'\n",
    "folder = 'data'\n",
    "file = datetime.datetime.now().strftime(\"%Y%m%d\")\n",
    "file = os.path.join(folder, f'{project}_{file}.csv')\n",
    "query = ['game', 'games', 'space', 'python', 'java']\n",
    "lang = ['en']"
   ]
  },
  {
   "cell_type": "code",
   "execution_count": 26,
   "metadata": {
    "collapsed": true
   },
   "outputs": [],
   "source": [
    "listener = StreamListener(file, lang, query, tweet_limit=5)\n",
    "myStream = tweepy.Stream(auth=api.auth, listener=listener)"
   ]
  },
  {
   "cell_type": "code",
   "execution_count": 27,
   "metadata": {},
   "outputs": [
    {
     "name": "stdout",
     "output_type": "stream",
     "text": [
      "---Stream opened (data/test_20170804.csv)---\n",
      "---Got 5 tweets---\n"
     ]
    }
   ],
   "source": [
    "myStream.filter(follow=None,\n",
    "                track=query,\n",
    "                locations=None,\n",
    "                languages=lang,\n",
    "                async=False)"
   ]
  },
  {
   "cell_type": "code",
   "execution_count": 29,
   "metadata": {},
   "outputs": [
    {
     "data": {
      "text/plain": [
       "False"
      ]
     },
     "execution_count": 29,
     "metadata": {},
     "output_type": "execute_result"
    }
   ],
   "source": [
    "myStream.disconnect()\n",
    "myStream.running"
   ]
  },
  {
   "cell_type": "code",
   "execution_count": 31,
   "metadata": {},
   "outputs": [
    {
     "data": {
      "text/html": [
       "<div>\n",
       "<style>\n",
       "    .dataframe thead tr:only-child th {\n",
       "        text-align: right;\n",
       "    }\n",
       "\n",
       "    .dataframe thead th {\n",
       "        text-align: left;\n",
       "    }\n",
       "\n",
       "    .dataframe tbody tr th {\n",
       "        vertical-align: top;\n",
       "    }\n",
       "</style>\n",
       "<table border=\"1\" class=\"dataframe\">\n",
       "  <thead>\n",
       "    <tr style=\"text-align: right;\">\n",
       "      <th></th>\n",
       "      <th>time</th>\n",
       "      <th>lang</th>\n",
       "      <th>query</th>\n",
       "      <th>user</th>\n",
       "      <th>text</th>\n",
       "    </tr>\n",
       "  </thead>\n",
       "  <tbody>\n",
       "    <tr>\n",
       "      <th>0</th>\n",
       "      <td>2017-08-04 02:27:20</td>\n",
       "      <td>en</td>\n",
       "      <td>game|games|space|python|java</td>\n",
       "      <td>➵KRISTEN🌵</td>\n",
       "      <td>RT @zoexrain: when I need my space but I also ...</td>\n",
       "    </tr>\n",
       "    <tr>\n",
       "      <th>1</th>\n",
       "      <td>2017-08-04 02:27:20</td>\n",
       "      <td>en</td>\n",
       "      <td>game|games|space|python|java</td>\n",
       "      <td>Matthew Herrera</td>\n",
       "      <td>RT @HawaiiNewsNow: L.A. Clippers to play Toron...</td>\n",
       "    </tr>\n",
       "    <tr>\n",
       "      <th>2</th>\n",
       "      <td>2017-08-04 02:27:20</td>\n",
       "      <td>en</td>\n",
       "      <td>game|games|space|python|java</td>\n",
       "      <td>S I M I</td>\n",
       "      <td>RT @AnselElgort: When you have 3 new episodes ...</td>\n",
       "    </tr>\n",
       "    <tr>\n",
       "      <th>3</th>\n",
       "      <td>2017-08-04 02:27:20</td>\n",
       "      <td>en</td>\n",
       "      <td>game|games|space|python|java</td>\n",
       "      <td>Linda</td>\n",
       "      <td>Level 5 - Video Games Live https://t.co/GzvgQn...</td>\n",
       "    </tr>\n",
       "    <tr>\n",
       "      <th>4</th>\n",
       "      <td>2017-08-04 02:27:20</td>\n",
       "      <td>en</td>\n",
       "      <td>game|games|space|python|java</td>\n",
       "      <td>LESLIE</td>\n",
       "      <td>RT @JackedYoTweets: Astronauts are not allowed...</td>\n",
       "    </tr>\n",
       "  </tbody>\n",
       "</table>\n",
       "</div>"
      ],
      "text/plain": [
       "                  time lang                         query             user  \\\n",
       "0  2017-08-04 02:27:20   en  game|games|space|python|java        ➵KRISTEN🌵   \n",
       "1  2017-08-04 02:27:20   en  game|games|space|python|java  Matthew Herrera   \n",
       "2  2017-08-04 02:27:20   en  game|games|space|python|java          S I M I   \n",
       "3  2017-08-04 02:27:20   en  game|games|space|python|java            Linda   \n",
       "4  2017-08-04 02:27:20   en  game|games|space|python|java           LESLIE   \n",
       "\n",
       "                                                text  \n",
       "0  RT @zoexrain: when I need my space but I also ...  \n",
       "1  RT @HawaiiNewsNow: L.A. Clippers to play Toron...  \n",
       "2  RT @AnselElgort: When you have 3 new episodes ...  \n",
       "3  Level 5 - Video Games Live https://t.co/GzvgQn...  \n",
       "4  RT @JackedYoTweets: Astronauts are not allowed...  "
      ]
     },
     "execution_count": 31,
     "metadata": {},
     "output_type": "execute_result"
    }
   ],
   "source": [
    "import pandas as pd\n",
    "pd.read_csv(file)"
   ]
  },
  {
   "cell_type": "code",
   "execution_count": null,
   "metadata": {
    "collapsed": true
   },
   "outputs": [],
   "source": []
  },
  {
   "cell_type": "code",
   "execution_count": null,
   "metadata": {
    "collapsed": true
   },
   "outputs": [],
   "source": []
  },
  {
   "cell_type": "code",
   "execution_count": null,
   "metadata": {
    "collapsed": true
   },
   "outputs": [],
   "source": []
  }
 ],
 "metadata": {
  "kernelspec": {
   "display_name": "Python 3",
   "language": "python",
   "name": "python3"
  },
  "language_info": {
   "codemirror_mode": {
    "name": "ipython",
    "version": 3
   },
   "file_extension": ".py",
   "mimetype": "text/x-python",
   "name": "python",
   "nbconvert_exporter": "python",
   "pygments_lexer": "ipython3",
   "version": "3.6.2"
  }
 },
 "nbformat": 4,
 "nbformat_minor": 2
}
