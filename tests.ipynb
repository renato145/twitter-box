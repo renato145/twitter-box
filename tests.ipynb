{
 "cells": [
  {
   "cell_type": "code",
   "execution_count": 1,
   "metadata": {
    "collapsed": true
   },
   "outputs": [],
   "source": [
    "import pickle\n",
    "import tweepy"
   ]
  },
  {
   "cell_type": "code",
   "execution_count": 2,
   "metadata": {},
   "outputs": [],
   "source": [
    "# cred = {\n",
    "#     'consumer_key': 'xxx',\n",
    "#     'consumer_secret': 'xxx',\n",
    "#     'access_token': 'xxx',\n",
    "#     'access_token_secret': 'xxx'\n",
    "# }\n",
    "\n",
    "# pickle.dump(cred, open('credentials.pkl', 'wb'))"
   ]
  },
  {
   "cell_type": "code",
   "execution_count": 3,
   "metadata": {},
   "outputs": [],
   "source": [
    "cred = pickle.load(open('credentials.pkl', 'rb'))\n",
    "# Creating the authentication object\n",
    "auth = tweepy.OAuthHandler(cred['consumer_key'], cred['consumer_secret'])\n",
    "# Setting your access token and secret\n",
    "auth.set_access_token(cred['access_token'], cred['access_token_secret'])\n",
    "# Creating the API object while passing in auth information\n",
    "api = tweepy.API(auth)"
   ]
  },
  {
   "cell_type": "markdown",
   "metadata": {},
   "source": [
    "# tweets from my timeline"
   ]
  },
  {
   "cell_type": "code",
   "execution_count": 4,
   "metadata": {},
   "outputs": [
    {
     "name": "stdout",
     "output_type": "stream",
     "text": [
      "RT @ngutten: @hardmaru A referee asks 'am I convinced by your story?'. There's more interesting standards: 'does this inspire?', 'can I now…\n"
     ]
    }
   ],
   "source": [
    "# Using the API object to get tweets from your timeline, and storing it in a variable called public_tweets\n",
    "public_tweets = api.home_timeline()\n",
    "# foreach through all tweets pulled\n",
    "print(public_tweets[0].text)"
   ]
  },
  {
   "cell_type": "markdown",
   "metadata": {},
   "source": [
    "# tweets from specific account"
   ]
  },
  {
   "cell_type": "code",
   "execution_count": 7,
   "metadata": {},
   "outputs": [
    {
     "name": "stdout",
     "output_type": "stream",
     "text": [
      "Cubo Rubik: Este joven peruano es el campeón mundial en Megaminx ► #VIDEO https://t.co/V0nc78nDYA\n",
      "----------\n",
      "¿Qué es es el Bitcoin Cash, la nueva moneda que vale más de US$450? ► [BBC] https://t.co/6eaZ8gUhqh\n",
      "----------\n",
      "Mercados flotantes de Tailandia son también exóticos restaurantes ► #VIDEO https://t.co/nmoF935DNu https://t.co/bH8VsudjK7\n",
      "----------\n"
     ]
    }
   ],
   "source": [
    "# The Twitter user who we want to get tweets from\n",
    "name = \"elcomercio_peru\"\n",
    "# Number of tweets to pull\n",
    "tweetCount = 3\n",
    "\n",
    "# Calling the user_timeline function with our parameters\n",
    "results = api.user_timeline(id=name, count=tweetCount)\n",
    "\n",
    "# foreach through all tweets pulled\n",
    "for tweet in results:\n",
    "    # printing the text stored inside the tweet object\n",
    "    print(tweet.text)\n",
    "    print('----------')    "
   ]
  },
  {
   "cell_type": "markdown",
   "metadata": {},
   "source": [
    "# query tweets"
   ]
  },
  {
   "cell_type": "code",
   "execution_count": 6,
   "metadata": {},
   "outputs": [
    {
     "name": "stdout",
     "output_type": "stream",
     "text": [
      "yovana71209824 Tweeted: RT @TRICICLODELPERU: ESTO NO TE CONTARÁ LA PRENSA MERMELERA: Hoy 50 mil maestros en huelga pidiéndole a PPK que cumpla promesa de subirles…\n",
      "----------\n",
      "bebitalinnda Tweeted: RT @TRICICLODELPERU: Phillip Butters: \"PPK es el culpable de las marchas del SUTEP por haberles prometido hasta un pasaje a la Luna en la c…\n",
      "----------\n",
      "CmpAlonso Tweeted: RT @elhigadodmarita: PPK prometió hasta el Santo Grial al sector educación y salud en campaña. ¡Hoy se rasca el ojo! Este DESASTRE es conse…\n",
      "----------\n"
     ]
    }
   ],
   "source": [
    "# The search term you want to find\n",
    "query = \"ppk\"\n",
    "# Language code (follows ISO 639-1 standards)\n",
    "language = \"es\"\n",
    "\n",
    "# Calling the user_timeline function with our parameters\n",
    "results = api.search(q=query, lang=language)\n",
    "\n",
    "max_show = 3\n",
    "# foreach through all tweets pulled\n",
    "for i, tweet in enumerate(results):\n",
    "    # printing the text stored inside the tweet object\n",
    "    if i == max_show: break\n",
    "    print(tweet.user.screen_name,\"Tweeted:\",tweet.text)\n",
    "    print('----------')"
   ]
  },
  {
   "cell_type": "markdown",
   "metadata": {},
   "source": [
    "# streaming"
   ]
  },
  {
   "cell_type": "code",
   "execution_count": 16,
   "metadata": {},
   "outputs": [],
   "source": [
    "#override tweepy.StreamListener to add logic to on_status\n",
    "class MyStreamListener(tweepy.StreamListener):\n",
    "    \n",
    "    def on_status(self, status):\n",
    "        print(status.text)\n",
    "        \n",
    "    def on_error(self, status_code):\n",
    "        if status_code == 420:\n",
    "            #returning False in on_data disconnects the stream\n",
    "            return False\n",
    "        \n",
    "myStreamListener = MyStreamListener()\n",
    "myStream = tweepy.Stream(auth=api.auth, listener=myStreamListener)"
   ]
  },
  {
   "cell_type": "code",
   "execution_count": 22,
   "metadata": {},
   "outputs": [
    {
     "name": "stdout",
     "output_type": "stream",
     "text": [
      "RT @elmorsa: Estuve fuera de Lima todo el día. ¿La fiscalía ya pidió orden de arresto preventivo contra Keiko Fujimori?\n",
      "RT @_DeLosRios_: La ingenuidad: https://t.co/dfMsBF7Wl2\n",
      "RT @epatriau: Y ojo: Keiko SI ha faltado a citaciones en su investigación por lavado. ¿Peligro procesal, dijeron? #lacaja2\n"
     ]
    }
   ],
   "source": [
    "myStream.filter(track=['keiko'], async=True)"
   ]
  },
  {
   "cell_type": "code",
   "execution_count": 33,
   "metadata": {},
   "outputs": [],
   "source": [
    "myStream.disconnect"
   ]
  },
  {
   "cell_type": "code",
   "execution_count": 34,
   "metadata": {
    "collapsed": true
   },
   "outputs": [],
   "source": [
    "tweepy.StreamListener??"
   ]
  },
  {
   "cell_type": "code",
   "execution_count": 38,
   "metadata": {},
   "outputs": [
    {
     "name": "stdout",
     "output_type": "stream",
     "text": [
      "Connected\n",
      "NO PIDAS CLEMENCIA https://t.co/ZQpcFZXApc\n",
      "-----\n",
      "RT @ddelaguardia: Entiendo el disgusto de algunos porque se les cayó el discurso con la multa que le impuso el @PGN_PANAMA a Odebrecht de $…\n",
      "-----\n",
      "RT @MPvenezolano: FGR @lortegadiaz informó que una de las rectoras del CNE suscribió varios contratos relacionados al caso de Odebrecht\n",
      "-----\n",
      "RT @Patryherr: La turra de Stolbizer me tiene bloqueada, alguien le podría decir por mi: \"Odebrecht aportó para tu campaña y no te hacés ca…\n",
      "-----\n",
      "Momento en que Castellanos De Moya, imputado #14 caso Odebrecht, llega a la Fiscalía con su abogado. #\n",
      "-----\n",
      "ok shit done!\n"
     ]
    }
   ],
   "source": [
    "# custom test\n",
    "class MyStreamListener(tweepy.StreamListener):\n",
    "    def __init__(self, max_n=None):\n",
    "        super(MyStreamListener, self).__init__()\n",
    "        self.max_n = max_n\n",
    "        self.i = 0\n",
    "        self.test = []\n",
    "        \n",
    "    def on_connect(self):\n",
    "        print('Connected')\n",
    "        \n",
    "    def on_status(self, status):\n",
    "        print(status.text)\n",
    "        print('-----')\n",
    "        self.test.append(status)\n",
    "        self.i += 1\n",
    "        if self.i == self.max_n:\n",
    "            print('ok shit done!')\n",
    "            return False\n",
    "        \n",
    "    def on_error(self, status_code):\n",
    "        if status_code == 420:\n",
    "            return False\n",
    "\n",
    "    def on_disconnect(self, notice):\n",
    "        print('uh oh disconnect')\n",
    "\n",
    "        \n",
    "testListener = MyStreamListener(5)\n",
    "myStream = tweepy.Stream(auth=api.auth, listener=testListener)\n",
    "myStream.filter(track=['Odebrecht'])"
   ]
  },
  {
   "cell_type": "code",
   "execution_count": 44,
   "metadata": {},
   "outputs": [
    {
     "data": {
      "text/plain": [
       "Status(_api=<tweepy.api.API object at 0x7f7b62a19198>, _json={'created_at': 'Thu Aug 03 06:03:43 +0000 2017', 'id': 892989336286900225, 'id_str': '892989336286900225', 'text': 'NO PIDAS CLEMENCIA https://t.co/ZQpcFZXApc', 'display_text_range': [0, 18], 'source': '<a href=\"http://twitter.com\" rel=\"nofollow\">Twitter Web Client</a>', 'truncated': False, 'in_reply_to_status_id': None, 'in_reply_to_status_id_str': None, 'in_reply_to_user_id': None, 'in_reply_to_user_id_str': None, 'in_reply_to_screen_name': None, 'user': {'id': 3432989435, 'id_str': '3432989435', 'name': 'MERRY PRADO', 'screen_name': 'merryprado09', 'location': 'Venezuela', 'url': None, 'description': 'NO PUEDO CON TANTA INDIFERENCIA', 'protected': False, 'verified': False, 'followers_count': 1957, 'friends_count': 427, 'listed_count': 13, 'favourites_count': 670, 'statuses_count': 19157, 'created_at': 'Thu Aug 20 16:39:01 +0000 2015', 'utc_offset': -25200, 'time_zone': 'Pacific Time (US & Canada)', 'geo_enabled': False, 'lang': 'es', 'contributors_enabled': False, 'is_translator': False, 'profile_background_color': 'C0DEED', 'profile_background_image_url': 'http://abs.twimg.com/images/themes/theme1/bg.png', 'profile_background_image_url_https': 'https://abs.twimg.com/images/themes/theme1/bg.png', 'profile_background_tile': False, 'profile_link_color': '1DA1F2', 'profile_sidebar_border_color': 'C0DEED', 'profile_sidebar_fill_color': 'DDEEF6', 'profile_text_color': '333333', 'profile_use_background_image': True, 'profile_image_url': 'http://pbs.twimg.com/profile_images/719025240039366656/9Z1U7tS1_normal.jpg', 'profile_image_url_https': 'https://pbs.twimg.com/profile_images/719025240039366656/9Z1U7tS1_normal.jpg', 'profile_banner_url': 'https://pbs.twimg.com/profile_banners/3432989435/1460265370', 'default_profile': True, 'default_profile_image': False, 'following': None, 'follow_request_sent': None, 'notifications': None}, 'geo': None, 'coordinates': None, 'place': None, 'contributors': None, 'quoted_status_id': 892985361902706688, 'quoted_status_id_str': '892985361902706688', 'quoted_status': {'created_at': 'Thu Aug 03 05:47:55 +0000 2017', 'id': 892985361902706688, 'id_str': '892985361902706688', 'text': 'Fiscal General @lortegadiaz :\\nCuando estuve en Brasil por el\\ncaso Odebrecht dos familiares\\nfueron secuestrados durante tres\\ndías.', 'source': '<a href=\"https://mobile.twitter.com\" rel=\"nofollow\">Mobile Web (M2)</a>', 'truncated': False, 'in_reply_to_status_id': None, 'in_reply_to_status_id_str': None, 'in_reply_to_user_id': None, 'in_reply_to_user_id_str': None, 'in_reply_to_screen_name': None, 'user': {'id': 500935159, 'id_str': '500935159', 'name': '2RADI0 ™', 'screen_name': '2RADl0', 'location': None, 'url': None, 'description': 'NO reconozco nada que sea ilicito', 'protected': False, 'verified': False, 'followers_count': 38235, 'friends_count': 31597, 'listed_count': 122, 'favourites_count': 3411, 'statuses_count': 284719, 'created_at': 'Thu Feb 23 16:32:34 +0000 2012', 'utc_offset': -14400, 'time_zone': 'Caracas', 'geo_enabled': False, 'lang': 'es', 'contributors_enabled': False, 'is_translator': False, 'profile_background_color': 'FAFAFA', 'profile_background_image_url': 'http://pbs.twimg.com/profile_background_images/497440238235443200/jMV189QI.jpeg', 'profile_background_image_url_https': 'https://pbs.twimg.com/profile_background_images/497440238235443200/jMV189QI.jpeg', 'profile_background_tile': True, 'profile_link_color': '0084B4', 'profile_sidebar_border_color': 'FFFFFF', 'profile_sidebar_fill_color': 'DDEEF6', 'profile_text_color': '333333', 'profile_use_background_image': True, 'profile_image_url': 'http://pbs.twimg.com/profile_images/822174645713412096/rMY-RSbt_normal.jpg', 'profile_image_url_https': 'https://pbs.twimg.com/profile_images/822174645713412096/rMY-RSbt_normal.jpg', 'profile_banner_url': 'https://pbs.twimg.com/profile_banners/500935159/1392519217', 'default_profile': False, 'default_profile_image': False, 'following': None, 'follow_request_sent': None, 'notifications': None}, 'geo': None, 'coordinates': None, 'place': None, 'contributors': None, 'is_quote_status': False, 'retweet_count': 5, 'favorite_count': 0, 'entities': {'hashtags': [], 'urls': [], 'user_mentions': [{'screen_name': 'lortegadiaz', 'name': 'Luisa Ortega Díaz', 'id': 1431759750, 'id_str': '1431759750', 'indices': [15, 27]}], 'symbols': []}, 'favorited': False, 'retweeted': False, 'filter_level': 'low', 'lang': 'es'}, 'is_quote_status': True, 'retweet_count': 0, 'favorite_count': 0, 'entities': {'hashtags': [], 'urls': [{'url': 'https://t.co/ZQpcFZXApc', 'expanded_url': 'https://twitter.com/2RADl0/status/892985361902706688', 'display_url': 'twitter.com/2RADl0/status/…', 'indices': [19, 42]}], 'user_mentions': [], 'symbols': []}, 'favorited': False, 'retweeted': False, 'possibly_sensitive': False, 'filter_level': 'low', 'lang': 'es', 'timestamp_ms': '1501740223367'}, created_at=datetime.datetime(2017, 8, 3, 6, 3, 43), id=892989336286900225, id_str='892989336286900225', text='NO PIDAS CLEMENCIA https://t.co/ZQpcFZXApc', display_text_range=[0, 18], source='Twitter Web Client', source_url='http://twitter.com', truncated=False, in_reply_to_status_id=None, in_reply_to_status_id_str=None, in_reply_to_user_id=None, in_reply_to_user_id_str=None, in_reply_to_screen_name=None, author=User(_api=<tweepy.api.API object at 0x7f7b62a19198>, _json={'id': 3432989435, 'id_str': '3432989435', 'name': 'MERRY PRADO', 'screen_name': 'merryprado09', 'location': 'Venezuela', 'url': None, 'description': 'NO PUEDO CON TANTA INDIFERENCIA', 'protected': False, 'verified': False, 'followers_count': 1957, 'friends_count': 427, 'listed_count': 13, 'favourites_count': 670, 'statuses_count': 19157, 'created_at': 'Thu Aug 20 16:39:01 +0000 2015', 'utc_offset': -25200, 'time_zone': 'Pacific Time (US & Canada)', 'geo_enabled': False, 'lang': 'es', 'contributors_enabled': False, 'is_translator': False, 'profile_background_color': 'C0DEED', 'profile_background_image_url': 'http://abs.twimg.com/images/themes/theme1/bg.png', 'profile_background_image_url_https': 'https://abs.twimg.com/images/themes/theme1/bg.png', 'profile_background_tile': False, 'profile_link_color': '1DA1F2', 'profile_sidebar_border_color': 'C0DEED', 'profile_sidebar_fill_color': 'DDEEF6', 'profile_text_color': '333333', 'profile_use_background_image': True, 'profile_image_url': 'http://pbs.twimg.com/profile_images/719025240039366656/9Z1U7tS1_normal.jpg', 'profile_image_url_https': 'https://pbs.twimg.com/profile_images/719025240039366656/9Z1U7tS1_normal.jpg', 'profile_banner_url': 'https://pbs.twimg.com/profile_banners/3432989435/1460265370', 'default_profile': True, 'default_profile_image': False, 'following': None, 'follow_request_sent': None, 'notifications': None}, id=3432989435, id_str='3432989435', name='MERRY PRADO', screen_name='merryprado09', location='Venezuela', url=None, description='NO PUEDO CON TANTA INDIFERENCIA', protected=False, verified=False, followers_count=1957, friends_count=427, listed_count=13, favourites_count=670, statuses_count=19157, created_at=datetime.datetime(2015, 8, 20, 16, 39, 1), utc_offset=-25200, time_zone='Pacific Time (US & Canada)', geo_enabled=False, lang='es', contributors_enabled=False, is_translator=False, profile_background_color='C0DEED', profile_background_image_url='http://abs.twimg.com/images/themes/theme1/bg.png', profile_background_image_url_https='https://abs.twimg.com/images/themes/theme1/bg.png', profile_background_tile=False, profile_link_color='1DA1F2', profile_sidebar_border_color='C0DEED', profile_sidebar_fill_color='DDEEF6', profile_text_color='333333', profile_use_background_image=True, profile_image_url='http://pbs.twimg.com/profile_images/719025240039366656/9Z1U7tS1_normal.jpg', profile_image_url_https='https://pbs.twimg.com/profile_images/719025240039366656/9Z1U7tS1_normal.jpg', profile_banner_url='https://pbs.twimg.com/profile_banners/3432989435/1460265370', default_profile=True, default_profile_image=False, following=False, follow_request_sent=None, notifications=None), user=User(_api=<tweepy.api.API object at 0x7f7b62a19198>, _json={'id': 3432989435, 'id_str': '3432989435', 'name': 'MERRY PRADO', 'screen_name': 'merryprado09', 'location': 'Venezuela', 'url': None, 'description': 'NO PUEDO CON TANTA INDIFERENCIA', 'protected': False, 'verified': False, 'followers_count': 1957, 'friends_count': 427, 'listed_count': 13, 'favourites_count': 670, 'statuses_count': 19157, 'created_at': 'Thu Aug 20 16:39:01 +0000 2015', 'utc_offset': -25200, 'time_zone': 'Pacific Time (US & Canada)', 'geo_enabled': False, 'lang': 'es', 'contributors_enabled': False, 'is_translator': False, 'profile_background_color': 'C0DEED', 'profile_background_image_url': 'http://abs.twimg.com/images/themes/theme1/bg.png', 'profile_background_image_url_https': 'https://abs.twimg.com/images/themes/theme1/bg.png', 'profile_background_tile': False, 'profile_link_color': '1DA1F2', 'profile_sidebar_border_color': 'C0DEED', 'profile_sidebar_fill_color': 'DDEEF6', 'profile_text_color': '333333', 'profile_use_background_image': True, 'profile_image_url': 'http://pbs.twimg.com/profile_images/719025240039366656/9Z1U7tS1_normal.jpg', 'profile_image_url_https': 'https://pbs.twimg.com/profile_images/719025240039366656/9Z1U7tS1_normal.jpg', 'profile_banner_url': 'https://pbs.twimg.com/profile_banners/3432989435/1460265370', 'default_profile': True, 'default_profile_image': False, 'following': None, 'follow_request_sent': None, 'notifications': None}, id=3432989435, id_str='3432989435', name='MERRY PRADO', screen_name='merryprado09', location='Venezuela', url=None, description='NO PUEDO CON TANTA INDIFERENCIA', protected=False, verified=False, followers_count=1957, friends_count=427, listed_count=13, favourites_count=670, statuses_count=19157, created_at=datetime.datetime(2015, 8, 20, 16, 39, 1), utc_offset=-25200, time_zone='Pacific Time (US & Canada)', geo_enabled=False, lang='es', contributors_enabled=False, is_translator=False, profile_background_color='C0DEED', profile_background_image_url='http://abs.twimg.com/images/themes/theme1/bg.png', profile_background_image_url_https='https://abs.twimg.com/images/themes/theme1/bg.png', profile_background_tile=False, profile_link_color='1DA1F2', profile_sidebar_border_color='C0DEED', profile_sidebar_fill_color='DDEEF6', profile_text_color='333333', profile_use_background_image=True, profile_image_url='http://pbs.twimg.com/profile_images/719025240039366656/9Z1U7tS1_normal.jpg', profile_image_url_https='https://pbs.twimg.com/profile_images/719025240039366656/9Z1U7tS1_normal.jpg', profile_banner_url='https://pbs.twimg.com/profile_banners/3432989435/1460265370', default_profile=True, default_profile_image=False, following=False, follow_request_sent=None, notifications=None), geo=None, coordinates=None, place=None, contributors=None, quoted_status_id=892985361902706688, quoted_status_id_str='892985361902706688', quoted_status={'created_at': 'Thu Aug 03 05:47:55 +0000 2017', 'id': 892985361902706688, 'id_str': '892985361902706688', 'text': 'Fiscal General @lortegadiaz :\\nCuando estuve en Brasil por el\\ncaso Odebrecht dos familiares\\nfueron secuestrados durante tres\\ndías.', 'source': '<a href=\"https://mobile.twitter.com\" rel=\"nofollow\">Mobile Web (M2)</a>', 'truncated': False, 'in_reply_to_status_id': None, 'in_reply_to_status_id_str': None, 'in_reply_to_user_id': None, 'in_reply_to_user_id_str': None, 'in_reply_to_screen_name': None, 'user': {'id': 500935159, 'id_str': '500935159', 'name': '2RADI0 ™', 'screen_name': '2RADl0', 'location': None, 'url': None, 'description': 'NO reconozco nada que sea ilicito', 'protected': False, 'verified': False, 'followers_count': 38235, 'friends_count': 31597, 'listed_count': 122, 'favourites_count': 3411, 'statuses_count': 284719, 'created_at': 'Thu Feb 23 16:32:34 +0000 2012', 'utc_offset': -14400, 'time_zone': 'Caracas', 'geo_enabled': False, 'lang': 'es', 'contributors_enabled': False, 'is_translator': False, 'profile_background_color': 'FAFAFA', 'profile_background_image_url': 'http://pbs.twimg.com/profile_background_images/497440238235443200/jMV189QI.jpeg', 'profile_background_image_url_https': 'https://pbs.twimg.com/profile_background_images/497440238235443200/jMV189QI.jpeg', 'profile_background_tile': True, 'profile_link_color': '0084B4', 'profile_sidebar_border_color': 'FFFFFF', 'profile_sidebar_fill_color': 'DDEEF6', 'profile_text_color': '333333', 'profile_use_background_image': True, 'profile_image_url': 'http://pbs.twimg.com/profile_images/822174645713412096/rMY-RSbt_normal.jpg', 'profile_image_url_https': 'https://pbs.twimg.com/profile_images/822174645713412096/rMY-RSbt_normal.jpg', 'profile_banner_url': 'https://pbs.twimg.com/profile_banners/500935159/1392519217', 'default_profile': False, 'default_profile_image': False, 'following': None, 'follow_request_sent': None, 'notifications': None}, 'geo': None, 'coordinates': None, 'place': None, 'contributors': None, 'is_quote_status': False, 'retweet_count': 5, 'favorite_count': 0, 'entities': {'hashtags': [], 'urls': [], 'user_mentions': [{'screen_name': 'lortegadiaz', 'name': 'Luisa Ortega Díaz', 'id': 1431759750, 'id_str': '1431759750', 'indices': [15, 27]}], 'symbols': []}, 'favorited': False, 'retweeted': False, 'filter_level': 'low', 'lang': 'es'}, is_quote_status=True, retweet_count=0, favorite_count=0, entities={'hashtags': [], 'urls': [{'url': 'https://t.co/ZQpcFZXApc', 'expanded_url': 'https://twitter.com/2RADl0/status/892985361902706688', 'display_url': 'twitter.com/2RADl0/status/…', 'indices': [19, 42]}], 'user_mentions': [], 'symbols': []}, favorited=False, retweeted=False, possibly_sensitive=False, filter_level='low', lang='es', timestamp_ms='1501740223367')"
      ]
     },
     "execution_count": 44,
     "metadata": {},
     "output_type": "execute_result"
    }
   ],
   "source": [
    "testListener.test[0]"
   ]
  },
  {
   "cell_type": "code",
   "execution_count": null,
   "metadata": {
    "collapsed": true
   },
   "outputs": [],
   "source": []
  }
 ],
 "metadata": {
  "kernelspec": {
   "display_name": "Python 3",
   "language": "python",
   "name": "python3"
  },
  "language_info": {
   "codemirror_mode": {
    "name": "ipython",
    "version": 3
   },
   "file_extension": ".py",
   "mimetype": "text/x-python",
   "name": "python",
   "nbconvert_exporter": "python",
   "pygments_lexer": "ipython3",
   "version": "3.6.2"
  }
 },
 "nbformat": 4,
 "nbformat_minor": 2
}
