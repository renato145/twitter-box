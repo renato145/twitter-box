{
 "cells": [
  {
   "cell_type": "code",
   "execution_count": 1,
   "metadata": {
    "collapsed": true
   },
   "outputs": [],
   "source": [
    "import tweepy\n",
    "from twitterbox import load_api"
   ]
  },
  {
   "cell_type": "code",
   "execution_count": 2,
   "metadata": {
    "collapsed": true
   },
   "outputs": [],
   "source": [
    "api = load_api()"
   ]
  },
  {
   "cell_type": "code",
   "execution_count": 3,
   "metadata": {
    "collapsed": true
   },
   "outputs": [],
   "source": [
    "query = '\"caja 2\"'\n",
    "language = 'es'\n",
    "n_tweets = 100\n",
    "n_pages = 2\n",
    "# https://dev.twitter.com/rest/reference/get/search/tweets"
   ]
  },
  {
   "cell_type": "code",
   "execution_count": 7,
   "metadata": {},
   "outputs": [],
   "source": [
    "results = []\n",
    "\n",
    "for page in tweepy.Cursor(api.search, q=query, lang=language,\n",
    "                          result_type='mixed', count=n_tweets).pages(n_pages):\n",
    "    for status in page:\n",
    "        results.append(f'{status.user.screen_name}: {status.text}')"
   ]
  },
  {
   "cell_type": "code",
   "execution_count": 16,
   "metadata": {},
   "outputs": [
    {
     "name": "stdout",
     "output_type": "stream",
     "text": [
      "rmapalacios: ¿Refrito? Caja 2 novedad. Por Caja 2 justifica el Fiscal Juarez prisión de los Humala.\n",
      "Aquí te lo explico clarito:… https://t.co/7DmM9Csm5K\n",
      "rmapalacios: O Globo revela que @KeikoFujimori recibió dinero de la Caja 2 (nuevos delatores). \n",
      "Si eso es lavado para Humala ¿por qué ella no esta presa?\n",
      "rmapalacios: No hay que saber portugues para entender clarito Caja 2 ¿no? https://t.co/U2Tu5HQLgf\n",
      "deadshot9999: RT @RobleisIUTU: 📦 QUE HAY EN LA CAJA!! #2 📦\n",
      "RT ayuda muchísimo❤️\n",
      "https://t.co/s6aqsm8KwJ\n",
      "yosoypokemon3DS: Caja 2: https://t.co/EGVU1gnzdW via @YouTube\n",
      "demibostero: RT @RobleisIUTU: 📦 QUE HAY EN LA CAJA!! #2 📦\n",
      "RT ayuda muchísimo❤️\n",
      "https://t.co/s6aqsm8KwJ\n",
      "Agustina76104: RT @RobleisIUTU: 📦 QUE HAY EN LA CAJA!! #2 📦\n",
      "RT ayuda muchísimo❤️\n",
      "https://t.co/s6aqsm8KwJ\n",
      "MachinLindo: RT @MilagrosLeivaG: O'Globo dice que Odebrecht sí le dio dinero a Keiko de la caja 2, ahora qué dirán los fujimoristas?\n",
      "samaniel61: RT @rmapalacios: O Globo revela que @KeikoFujimori recibió dinero de la Caja 2 (nuevos delatores). \n",
      "Si eso es lavado para Humala ¿por qué e…\n",
      "male_dobla: RT @RobleisIUTU: 📦 QUE HAY EN LA CAJA!! #2 📦\n",
      "RT ayuda muchísimo❤️\n",
      "https://t.co/s6aqsm8KwJ\n"
     ]
    }
   ],
   "source": [
    "print('\\n'.join(results[:10]))"
   ]
  },
  {
   "cell_type": "code",
   "execution_count": null,
   "metadata": {
    "collapsed": true
   },
   "outputs": [],
   "source": [
    "# for status in tweepy.Cursor(api.search,\n",
    "#                        q=search_term,\n",
    "#                        since='2017-02-16', until='2017-02-17',\n",
    "#                        count=10,\n",
    "#                        result_type='recent',\n",
    "#                        include_entities=True,\n",
    "#                        monitor_rate_limit=True, \n",
    "#                        wait_on_rate_limit=True,\n",
    "#                        lang=\"en\").items():"
   ]
  }
 ],
 "metadata": {
  "kernelspec": {
   "display_name": "Python 3",
   "language": "python",
   "name": "python3"
  },
  "language_info": {
   "codemirror_mode": {
    "name": "ipython",
    "version": 3
   },
   "file_extension": ".py",
   "mimetype": "text/x-python",
   "name": "python",
   "nbconvert_exporter": "python",
   "pygments_lexer": "ipython3",
   "version": "3.6.2"
  }
 },
 "nbformat": 4,
 "nbformat_minor": 2
}
